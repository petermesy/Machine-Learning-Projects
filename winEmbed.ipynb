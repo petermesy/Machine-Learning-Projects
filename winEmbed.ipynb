{
  "nbformat": 4,
  "nbformat_minor": 0,
  "metadata": {
    "colab": {
      "provenance": [],
      "gpuType": "T4",
      "authorship_tag": "ABX9TyN7c3hGRTvndqIan4DmNQKe",
      "include_colab_link": true
    },
    "kernelspec": {
      "name": "python3",
      "display_name": "Python 3"
    },
    "language_info": {
      "name": "python"
    },
    "accelerator": "GPU"
  },
  "cells": [
    {
      "cell_type": "markdown",
      "metadata": {
        "id": "view-in-github",
        "colab_type": "text"
      },
      "source": [
        "<a href=\"https://colab.research.google.com/github/petermesy/Machine-Learning-Projects/blob/main/winEmbed.ipynb\" target=\"_parent\"><img src=\"https://colab.research.google.com/assets/colab-badge.svg\" alt=\"Open In Colab\"/></a>"
      ]
    },
    {
      "cell_type": "code",
      "execution_count": 2,
      "metadata": {
        "colab": {
          "base_uri": "https://localhost:8080/"
        },
        "id": "DIkWEf99Y4g5",
        "outputId": "a19bdaa2-4856-4bae-e581-493ec0b0d1eb"
      },
      "outputs": [
        {
          "output_type": "stream",
          "name": "stdout",
          "text": [
            "Using device: cuda\n"
          ]
        },
        {
          "output_type": "stream",
          "name": "stderr",
          "text": [
            "Processing lines: 169it [09:17,  3.30s/it]\n"
          ]
        }
      ],
      "source": [
        "import json\n",
        "from sentence_transformers import SentenceTransformer\n",
        "from tqdm import tqdm\n",
        "import torch\n",
        "\n",
        "# Use GPU if available\n",
        "device = \"cuda\" if torch.cuda.is_available() else \"cpu\"\n",
        "print(f\"Using device: {device}\")\n",
        "\n",
        "# Load model on GPU\n",
        "model = SentenceTransformer(\"paraphrase-multilingual-mpnet-base-v2\", device=device)\n",
        "\n",
        "# File paths\n",
        "input_path = \"/content/amharic_chunks.jsonl\"\n",
        "output_path = \"/content/amharic_chunks_with_embeddings.jsonl\"\n",
        "\n",
        "# Process file\n",
        "with open(input_path, \"r\", encoding=\"utf-8\") as infile, \\\n",
        "     open(output_path, \"w\", encoding=\"utf-8\") as outfile:\n",
        "\n",
        "    for line in tqdm(infile, desc=\"Processing lines\"):\n",
        "        line = line.strip()\n",
        "        if not line:\n",
        "            continue\n",
        "\n",
        "        try:\n",
        "            data = json.loads(line)\n",
        "        except json.JSONDecodeError:\n",
        "            continue\n",
        "\n",
        "        sentences = data.get(\"chunked_sentences\", [])\n",
        "        texts = [s.get(\"sentence\", \"\") for s in sentences]\n",
        "\n",
        "        # Batch encode with GPU\n",
        "        embeddings = model.encode(texts, batch_size=32, convert_to_numpy=False, device=device)\n",
        "\n",
        "        # Add embedding to each sentence\n",
        "        for s, emb in zip(sentences, embeddings):\n",
        "            s[\"embedding\"] = emb.tolist()\n",
        "\n",
        "        data[\"chunked_sentences\"] = sentences\n",
        "        outfile.write(json.dumps(data, ensure_ascii=False) + \"\\n\")\n"
      ]
    }
  ]
}